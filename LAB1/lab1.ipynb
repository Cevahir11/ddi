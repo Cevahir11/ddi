{
 "cells": [
  {
   "cell_type": "code",
   "execution_count": 1,
   "metadata": {},
   "outputs": [],
   "source": [
    "# !pip install nltk"
   ]
  },
  {
   "cell_type": "code",
   "execution_count": 2,
   "metadata": {},
   "outputs": [],
   "source": [
    "# !pip install zeyrek"
   ]
  },
  {
   "cell_type": "code",
   "execution_count": 3,
   "metadata": {},
   "outputs": [],
   "source": [
    "# !pip install TurkishStemmer"
   ]
  },
  {
   "cell_type": "code",
   "execution_count": 4,
   "metadata": {},
   "outputs": [],
   "source": [
    "import nltk\n",
    "import zeyrek # https://github.com/obulat/zeyrek\n",
    "from TurkishStemmer import TurkishStemmer # https://github.com/otuncelli/turkish-stemmer-python"
   ]
  },
  {
   "cell_type": "code",
   "execution_count": 5,
   "metadata": {},
   "outputs": [
    {
     "name": "stderr",
     "output_type": "stream",
     "text": [
      "[nltk_data] Downloading package punkt to /Users/ihp/nltk_data...\n",
      "[nltk_data]   Package punkt is already up-to-date!\n"
     ]
    },
    {
     "data": {
      "text/plain": [
       "True"
      ]
     },
     "execution_count": 5,
     "metadata": {},
     "output_type": "execute_result"
    }
   ],
   "source": [
    "nltk.download(\"punkt\")"
   ]
  },
  {
   "cell_type": "code",
   "execution_count": 6,
   "metadata": {},
   "outputs": [],
   "source": [
    "analyzer = zeyrek.MorphAnalyzer()"
   ]
  },
  {
   "cell_type": "code",
   "execution_count": 7,
   "metadata": {},
   "outputs": [
    {
     "data": {
      "text/plain": [
       "[('benimkilerden', ['benimki'])]"
      ]
     },
     "execution_count": 7,
     "metadata": {},
     "output_type": "execute_result"
    }
   ],
   "source": [
    "analyzer.lemmatize(\"benimkilerden\")"
   ]
  },
  {
   "cell_type": "code",
   "execution_count": 8,
   "metadata": {},
   "outputs": [],
   "source": [
    "stemmer = TurkishStemmer()"
   ]
  },
  {
   "cell_type": "code",
   "execution_count": 9,
   "metadata": {},
   "outputs": [
    {
     "data": {
      "text/plain": [
       "'benimki'"
      ]
     },
     "execution_count": 9,
     "metadata": {},
     "output_type": "execute_result"
    }
   ],
   "source": [
    "stemmer.stem(\"benimkilerden\")"
   ]
  },
  {
   "cell_type": "code",
   "execution_count": 13,
   "metadata": {},
   "outputs": [],
   "source": [
    "cumle = \"Dönülmez akşamın ufkundayım.\""
   ]
  },
  {
   "cell_type": "code",
   "execution_count": 14,
   "metadata": {},
   "outputs": [
    {
     "data": {
      "text/plain": [
       "'Dönülmez akşamın ufkundayım.'"
      ]
     },
     "execution_count": 14,
     "metadata": {},
     "output_type": "execute_result"
    }
   ],
   "source": [
    "stemmer.stem(cumle)"
   ]
  },
  {
   "cell_type": "code",
   "execution_count": 15,
   "metadata": {},
   "outputs": [
    {
     "data": {
      "text/plain": [
       "[('Dönülmez', ['dönmek']),\n",
       " ('akşamın', ['akşam']),\n",
       " ('ufkundayım', ['ufuk']),\n",
       " ('.', ['.'])]"
      ]
     },
     "execution_count": 15,
     "metadata": {},
     "output_type": "execute_result"
    }
   ],
   "source": [
    "analyzer.lemmatize(cumle)"
   ]
  },
  {
   "cell_type": "code",
   "execution_count": 17,
   "metadata": {},
   "outputs": [
    {
     "name": "stdout",
     "output_type": "stream",
     "text": [
      "Dönülmez\n",
      "akşa\n",
      "ufkundayım.\n"
     ]
    }
   ],
   "source": [
    "for kelime in cumle.split():\n",
    "    print(stemmer.stem(kelime))"
   ]
  },
  {
   "cell_type": "code",
   "execution_count": 18,
   "metadata": {},
   "outputs": [],
   "source": [
    "import pandas as pd"
   ]
  },
  {
   "cell_type": "code",
   "execution_count": 46,
   "metadata": {},
   "outputs": [
    {
     "data": {
      "text/html": [
       "<div>\n",
       "<style scoped>\n",
       "    .dataframe tbody tr th:only-of-type {\n",
       "        vertical-align: middle;\n",
       "    }\n",
       "\n",
       "    .dataframe tbody tr th {\n",
       "        vertical-align: top;\n",
       "    }\n",
       "\n",
       "    .dataframe thead th {\n",
       "        text-align: right;\n",
       "    }\n",
       "</style>\n",
       "<table border=\"1\" class=\"dataframe\">\n",
       "  <thead>\n",
       "    <tr style=\"text-align: right;\">\n",
       "      <th></th>\n",
       "      <th>Görüş</th>\n",
       "      <th>Durum</th>\n",
       "    </tr>\n",
       "  </thead>\n",
       "  <tbody>\n",
       "    <tr>\n",
       "      <th>0</th>\n",
       "      <td>ses kalitesi ve ergonomisi rezalet, sony olduğ...</td>\n",
       "      <td>Olumsuz</td>\n",
       "    </tr>\n",
       "    <tr>\n",
       "      <th>1</th>\n",
       "      <td>hizli teslimat tesekkürler</td>\n",
       "      <td>Tarafsız</td>\n",
       "    </tr>\n",
       "    <tr>\n",
       "      <th>2</th>\n",
       "      <td>ses olayı süper....gece çalıştır sıkıntı yok.....</td>\n",
       "      <td>Olumlu</td>\n",
       "    </tr>\n",
       "    <tr>\n",
       "      <th>3</th>\n",
       "      <td>geldi bigün kullandık hemen bozoldu hiçtavsiye...</td>\n",
       "      <td>Olumsuz</td>\n",
       "    </tr>\n",
       "    <tr>\n",
       "      <th>4</th>\n",
       "      <td>Kulaklığın sesi kaliteli falan değil. Aleti öv...</td>\n",
       "      <td>Olumsuz</td>\n",
       "    </tr>\n",
       "  </tbody>\n",
       "</table>\n",
       "</div>"
      ],
      "text/plain": [
       "                                               Görüş     Durum\n",
       "0  ses kalitesi ve ergonomisi rezalet, sony olduğ...   Olumsuz\n",
       "1                         hizli teslimat tesekkürler  Tarafsız\n",
       "2  ses olayı süper....gece çalıştır sıkıntı yok.....    Olumlu\n",
       "3  geldi bigün kullandık hemen bozoldu hiçtavsiye...   Olumsuz\n",
       "4  Kulaklığın sesi kaliteli falan değil. Aleti öv...   Olumsuz"
      ]
     },
     "execution_count": 46,
     "metadata": {},
     "output_type": "execute_result"
    }
   ],
   "source": [
    "df = pd.read_csv(\"magaza_yorumlari_duygu_analizi.csv\", encoding=\"utf16\") \n",
    "# https://www.kaggle.com/datasets/burhanbilenn/duygu-analizi-icin-urun-yorumlari\n",
    "df.head()"
   ]
  },
  {
   "cell_type": "code",
   "execution_count": 47,
   "metadata": {},
   "outputs": [
    {
     "data": {
      "text/plain": [
       "11429"
      ]
     },
     "execution_count": 47,
     "metadata": {},
     "output_type": "execute_result"
    }
   ],
   "source": [
    "len(df)"
   ]
  },
  {
   "cell_type": "code",
   "execution_count": 48,
   "metadata": {},
   "outputs": [
    {
     "data": {
      "text/plain": [
       "array(['Olumsuz', 'Tarafsız', 'Olumlu'], dtype=object)"
      ]
     },
     "execution_count": 48,
     "metadata": {},
     "output_type": "execute_result"
    }
   ],
   "source": [
    "df[\"Durum\"].unique()"
   ]
  },
  {
   "cell_type": "code",
   "execution_count": 49,
   "metadata": {},
   "outputs": [],
   "source": [
    "df = df[df[\"Durum\"].isin([\"Olumlu\", \"Olumsuz\"])]"
   ]
  },
  {
   "cell_type": "code",
   "execution_count": 51,
   "metadata": {},
   "outputs": [
    {
     "data": {
      "text/plain": [
       "array(['Olumsuz', 'Olumlu'], dtype=object)"
      ]
     },
     "execution_count": 51,
     "metadata": {},
     "output_type": "execute_result"
    }
   ],
   "source": [
    "df[\"Durum\"].unique()"
   ]
  },
  {
   "cell_type": "code",
   "execution_count": 52,
   "metadata": {},
   "outputs": [
    {
     "data": {
      "text/plain": [
       "8491"
      ]
     },
     "execution_count": 52,
     "metadata": {},
     "output_type": "execute_result"
    }
   ],
   "source": [
    "len(df)"
   ]
  },
  {
   "cell_type": "code",
   "execution_count": 53,
   "metadata": {},
   "outputs": [
    {
     "data": {
      "text/plain": [
       "<AxesSubplot:>"
      ]
     },
     "execution_count": 53,
     "metadata": {},
     "output_type": "execute_result"
    },
    {
     "data": {
      "image/png": "[encoded data removed]",
      "text/plain": [
       "<Figure size 640x480 with 1 Axes>"
      ]
     },
     "metadata": {},
     "output_type": "display_data"
    }
   ],
   "source": [
    "df[\"Durum\"].hist()"
   ]
  },
  {
   "cell_type": "code",
   "execution_count": 54,
   "metadata": {},
   "outputs": [
    {
     "name": "stdout",
     "output_type": "stream",
     "text": [
      "<class 'pandas.core.frame.DataFrame'>\n",
      "Int64Index: 8491 entries, 0 to 11428\n",
      "Data columns (total 2 columns):\n",
      " #   Column  Non-Null Count  Dtype \n",
      "---  ------  --------------  ----- \n",
      " 0   Görüş   8489 non-null   object\n",
      " 1   Durum   8491 non-null   object\n",
      "dtypes: object(2)\n",
      "memory usage: 199.0+ KB\n"
     ]
    }
   ],
   "source": [
    "df.info()"
   ]
  },
  {
   "cell_type": "code",
   "execution_count": 56,
   "metadata": {},
   "outputs": [
    {
     "data": {
      "text/plain": [
       "Görüş    2\n",
       "Durum    0\n",
       "dtype: int64"
      ]
     },
     "execution_count": 56,
     "metadata": {},
     "output_type": "execute_result"
    }
   ],
   "source": [
    "df.isna().sum()"
   ]
  },
  {
   "cell_type": "code",
   "execution_count": 57,
   "metadata": {},
   "outputs": [],
   "source": [
    "df.dropna(inplace=True)"
   ]
  },
  {
   "cell_type": "code",
   "execution_count": 58,
   "metadata": {},
   "outputs": [
    {
     "data": {
      "text/plain": [
       "Görüş    0\n",
       "Durum    0\n",
       "dtype: int64"
      ]
     },
     "execution_count": 58,
     "metadata": {},
     "output_type": "execute_result"
    }
   ],
   "source": [
    "df.isna().sum()"
   ]
  },
  {
   "cell_type": "code",
   "execution_count": 62,
   "metadata": {},
   "outputs": [
    {
     "name": "stderr",
     "output_type": "stream",
     "text": [
      "[nltk_data] Downloading package stopwords to /Users/ihp/nltk_data...\n",
      "[nltk_data]   Unzipping corpora/stopwords.zip.\n"
     ]
    },
    {
     "data": {
      "text/plain": [
       "True"
      ]
     },
     "execution_count": 62,
     "metadata": {},
     "output_type": "execute_result"
    }
   ],
   "source": [
    "nltk.download(\"stopwords\")"
   ]
  },
  {
   "cell_type": "code",
   "execution_count": 63,
   "metadata": {},
   "outputs": [],
   "source": [
    "import string\n",
    "from nltk.corpus import stopwords"
   ]
  },
  {
   "cell_type": "code",
   "execution_count": 60,
   "metadata": {},
   "outputs": [
    {
     "data": {
      "text/plain": [
       "'!\"#$%&\\'()*+,-./:;<=>?@[\\\\]^_`{|}~'"
      ]
     },
     "execution_count": 60,
     "metadata": {},
     "output_type": "execute_result"
    }
   ],
   "source": [
    "string.punctuation"
   ]
  },
  {
   "cell_type": "code",
   "execution_count": 93,
   "metadata": {},
   "outputs": [
    {
     "data": {
      "text/plain": [
       "['acaba',\n",
       " 'ama',\n",
       " 'aslında',\n",
       " 'az',\n",
       " 'bazı',\n",
       " 'belki',\n",
       " 'biri',\n",
       " 'birkaç',\n",
       " 'birşey',\n",
       " 'biz',\n",
       " 'bu',\n",
       " 'çok',\n",
       " 'çünkü',\n",
       " 'da',\n",
       " 'daha',\n",
       " 'de',\n",
       " 'defa',\n",
       " 'diye',\n",
       " 'eğer',\n",
       " 'en',\n",
       " 'gibi',\n",
       " 'hem',\n",
       " 'hep',\n",
       " 'hepsi',\n",
       " 'her',\n",
       " 'hiç',\n",
       " 'için',\n",
       " 'ile',\n",
       " 'ise',\n",
       " 'kez',\n",
       " 'ki',\n",
       " 'kim',\n",
       " 'mı',\n",
       " 'mu',\n",
       " 'mü',\n",
       " 'nasıl',\n",
       " 'ne',\n",
       " 'neden',\n",
       " 'nerde',\n",
       " 'nerede',\n",
       " 'nereye',\n",
       " 'niçin',\n",
       " 'niye',\n",
       " 'o',\n",
       " 'sanki',\n",
       " 'şey',\n",
       " 'siz',\n",
       " 'şu',\n",
       " 'tüm',\n",
       " 've',\n",
       " 'veya',\n",
       " 'ya',\n",
       " 'yani']"
      ]
     },
     "execution_count": 93,
     "metadata": {},
     "output_type": "execute_result"
    }
   ],
   "source": [
    "dolgular = stopwords.words(\"turkish\")\n",
    "dolgular"
   ]
  },
  {
   "cell_type": "code",
   "execution_count": 76,
   "metadata": {},
   "outputs": [],
   "source": [
    "s = \"Hey! Naber? İyilik, senden... Ben de iyiyim.\"\n",
    "s = s.translate(str.maketrans ('', '', string.punctuation))"
   ]
  },
  {
   "cell_type": "code",
   "execution_count": 77,
   "metadata": {},
   "outputs": [
    {
     "data": {
      "text/plain": [
       "'Hey Naber İyilik senden Ben de iyiyim'"
      ]
     },
     "execution_count": 77,
     "metadata": {},
     "output_type": "execute_result"
    }
   ],
   "source": [
    "s"
   ]
  },
  {
   "cell_type": "code",
   "execution_count": 78,
   "metadata": {},
   "outputs": [
    {
     "data": {
      "text/plain": [
       "[('Hey', ['hey']),\n",
       " ('Naber', ['Naber']),\n",
       " ('İyilik', ['iyi']),\n",
       " ('senden', ['se', 'sen']),\n",
       " ('Ben', ['ben']),\n",
       " ('de', ['demek', 'de']),\n",
       " ('iyiyim', ['iyi'])]"
      ]
     },
     "execution_count": 78,
     "metadata": {},
     "output_type": "execute_result"
    }
   ],
   "source": [
    "analiz = analyzer.lemmatize(s)\n",
    "analiz"
   ]
  },
  {
   "cell_type": "code",
   "execution_count": 79,
   "metadata": {},
   "outputs": [
    {
     "name": "stdout",
     "output_type": "stream",
     "text": [
      "hey\n",
      "Naber\n",
      "iyi\n",
      "sen\n",
      "ben\n",
      "de\n",
      "iyi\n"
     ]
    }
   ],
   "source": [
    "for el in analiz:\n",
    "    print(el[1][-1])"
   ]
  },
  {
   "cell_type": "code",
   "execution_count": 90,
   "metadata": {},
   "outputs": [
    {
     "data": {
      "text/plain": [
       "'Arkadaşlar ürün çok güzel ve de sessiz çalışıyo.Kargo hızlıydı fakat ben\\nkargoyu takip edemedim(Ceva Lojistik).onun dışında bi sıkıntı yok.Mağaza\\nda güvenilir bu arada'"
      ]
     },
     "execution_count": 90,
     "metadata": {},
     "output_type": "execute_result"
    }
   ],
   "source": [
    "ornek = df.iloc[13][\"Görüş\"]\n",
    "ornek"
   ]
  },
  {
   "cell_type": "code",
   "execution_count": 91,
   "metadata": {},
   "outputs": [
    {
     "data": {
      "text/plain": [
       "'Arkadaşlar ürün çok güzel ve de sessiz çalışıyoKargo hızlıydı fakat ben\\nkargoyu takip edemedimCeva Lojistikonun dışında bi sıkıntı yokMağaza\\nda güvenilir bu arada'"
      ]
     },
     "execution_count": 91,
     "metadata": {},
     "output_type": "execute_result"
    }
   ],
   "source": [
    "ornek.translate(str.maketrans ('', '', string.punctuation))"
   ]
  },
  {
   "cell_type": "code",
   "execution_count": 92,
   "metadata": {},
   "outputs": [
    {
     "data": {
      "text/plain": [
       "['Arkadaşlar',\n",
       " 'ürün',\n",
       " 'çok',\n",
       " 'güzel',\n",
       " 've',\n",
       " 'de',\n",
       " 'sessiz',\n",
       " 'çalışıyo',\n",
       " 'Kargo',\n",
       " 'hızlıydı',\n",
       " 'fakat',\n",
       " 'ben',\n",
       " 'kargoyu',\n",
       " 'takip',\n",
       " 'edemedim',\n",
       " 'Ceva',\n",
       " 'Lojistik',\n",
       " 'onun',\n",
       " 'dışında',\n",
       " 'bi',\n",
       " 'sıkıntı',\n",
       " 'yok',\n",
       " 'Mağaza',\n",
       " 'da',\n",
       " 'güvenilir',\n",
       " 'bu',\n",
       " 'arada']"
      ]
     },
     "execution_count": 92,
     "metadata": {},
     "output_type": "execute_result"
    }
   ],
   "source": [
    "from nltk.tokenize import RegexpTokenizer\n",
    "\n",
    "tokenizer = RegexpTokenizer(r\"\\w+\")\n",
    "tokenizer.tokenize(ornek)"
   ]
  },
  {
   "cell_type": "code",
   "execution_count": 102,
   "metadata": {},
   "outputs": [],
   "source": [
    "def clean_doc(doc, tok):\n",
    "    tokens = tok.tokenize(doc)\n",
    "    clean_tokens = [tok for tok in tokens if tok not in dolgular]\n",
    "    analiz = analyzer.lemmatize(\" \".join(clean_tokens))\n",
    "    return [el[1][-1] for el in analiz]"
   ]
  },
  {
   "cell_type": "code",
   "execution_count": 103,
   "metadata": {},
   "outputs": [
    {
     "data": {
      "text/plain": [
       "['arkadaş',\n",
       " 'ürümek',\n",
       " 'güzel',\n",
       " 'ses',\n",
       " 'çalışıyo',\n",
       " 'kargo',\n",
       " 'hız',\n",
       " 'fakat',\n",
       " 'ben',\n",
       " 'kargo',\n",
       " 'takip',\n",
       " 'etmek',\n",
       " 'Ceva',\n",
       " 'Lojistik',\n",
       " 'on',\n",
       " 'dış',\n",
       " 'bi',\n",
       " 'sıkıntı',\n",
       " 'yok',\n",
       " 'mağaza',\n",
       " 'güvenmek',\n",
       " 'ara']"
      ]
     },
     "execution_count": 103,
     "metadata": {},
     "output_type": "execute_result"
    }
   ],
   "source": [
    "tokenizer = RegexpTokenizer(r\"\\w+\")\n",
    "clean_doc(ornek, tokenizer)"
   ]
  },
  {
   "cell_type": "code",
   "execution_count": 111,
   "metadata": {},
   "outputs": [
    {
     "data": {
      "text/html": [
       "<div>\n",
       "<style scoped>\n",
       "    .dataframe tbody tr th:only-of-type {\n",
       "        vertical-align: middle;\n",
       "    }\n",
       "\n",
       "    .dataframe tbody tr th {\n",
       "        vertical-align: top;\n",
       "    }\n",
       "\n",
       "    .dataframe thead th {\n",
       "        text-align: right;\n",
       "    }\n",
       "</style>\n",
       "<table border=\"1\" class=\"dataframe\">\n",
       "  <thead>\n",
       "    <tr style=\"text-align: right;\">\n",
       "      <th></th>\n",
       "      <th>Görüş</th>\n",
       "      <th>Durum</th>\n",
       "    </tr>\n",
       "  </thead>\n",
       "  <tbody>\n",
       "    <tr>\n",
       "      <th>0</th>\n",
       "      <td>ses kalitesi ve ergonomisi rezalet, sony olduğ...</td>\n",
       "      <td>Olumsuz</td>\n",
       "    </tr>\n",
       "    <tr>\n",
       "      <th>2</th>\n",
       "      <td>ses olayı süper....gece çalıştır sıkıntı yok.....</td>\n",
       "      <td>Olumlu</td>\n",
       "    </tr>\n",
       "    <tr>\n",
       "      <th>3</th>\n",
       "      <td>geldi bigün kullandık hemen bozoldu hiçtavsiye...</td>\n",
       "      <td>Olumsuz</td>\n",
       "    </tr>\n",
       "    <tr>\n",
       "      <th>4</th>\n",
       "      <td>Kulaklığın sesi kaliteli falan değil. Aleti öv...</td>\n",
       "      <td>Olumsuz</td>\n",
       "    </tr>\n",
       "    <tr>\n",
       "      <th>6</th>\n",
       "      <td>kullanisli baya</td>\n",
       "      <td>Olumlu</td>\n",
       "    </tr>\n",
       "  </tbody>\n",
       "</table>\n",
       "</div>"
      ],
      "text/plain": [
       "                                               Görüş    Durum\n",
       "0  ses kalitesi ve ergonomisi rezalet, sony olduğ...  Olumsuz\n",
       "2  ses olayı süper....gece çalıştır sıkıntı yok.....   Olumlu\n",
       "3  geldi bigün kullandık hemen bozoldu hiçtavsiye...  Olumsuz\n",
       "4  Kulaklığın sesi kaliteli falan değil. Aleti öv...  Olumsuz\n",
       "6                                    kullanisli baya   Olumlu"
      ]
     },
     "execution_count": 111,
     "metadata": {},
     "output_type": "execute_result"
    }
   ],
   "source": [
    "df.head()"
   ]
  },
  {
   "cell_type": "code",
   "execution_count": 112,
   "metadata": {},
   "outputs": [],
   "source": [
    "# bu işlem uzun sürebilir\n",
    "df[\"clean\"] = df.apply(lambda row: clean_doc(row[\"Görüş\"], tokenizer), axis=1) "
   ]
  },
  {
   "cell_type": "code",
   "execution_count": 113,
   "metadata": {},
   "outputs": [
    {
     "data": {
      "text/html": [
       "<div>\n",
       "<style scoped>\n",
       "    .dataframe tbody tr th:only-of-type {\n",
       "        vertical-align: middle;\n",
       "    }\n",
       "\n",
       "    .dataframe tbody tr th {\n",
       "        vertical-align: top;\n",
       "    }\n",
       "\n",
       "    .dataframe thead th {\n",
       "        text-align: right;\n",
       "    }\n",
       "</style>\n",
       "<table border=\"1\" class=\"dataframe\">\n",
       "  <thead>\n",
       "    <tr style=\"text-align: right;\">\n",
       "      <th></th>\n",
       "      <th>Görüş</th>\n",
       "      <th>Durum</th>\n",
       "      <th>clean</th>\n",
       "    </tr>\n",
       "  </thead>\n",
       "  <tbody>\n",
       "    <tr>\n",
       "      <th>0</th>\n",
       "      <td>ses kalitesi ve ergonomisi rezalet, sony olduğ...</td>\n",
       "      <td>Olumsuz</td>\n",
       "      <td>[ses, kalite, ergonomi, rezalet, Sony, olmak, ...</td>\n",
       "    </tr>\n",
       "    <tr>\n",
       "      <th>2</th>\n",
       "      <td>ses olayı süper....gece çalıştır sıkıntı yok.....</td>\n",
       "      <td>Olumlu</td>\n",
       "      <td>[ses, olay, süper, ge, çalışmak, sıkıntı, yok,...</td>\n",
       "    </tr>\n",
       "    <tr>\n",
       "      <th>3</th>\n",
       "      <td>geldi bigün kullandık hemen bozoldu hiçtavsiye...</td>\n",
       "      <td>Olumsuz</td>\n",
       "      <td>[gelmek, bigün, kul, hemen, bozoldu, hiçtavsiy...</td>\n",
       "    </tr>\n",
       "    <tr>\n",
       "      <th>4</th>\n",
       "      <td>Kulaklığın sesi kaliteli falan değil. Aleti öv...</td>\n",
       "      <td>Olumsuz</td>\n",
       "      <td>[kulak, ses, kalite, fa, değil, alet, övmek, ö...</td>\n",
       "    </tr>\n",
       "    <tr>\n",
       "      <th>6</th>\n",
       "      <td>kullanisli baya</td>\n",
       "      <td>Olumlu</td>\n",
       "      <td>[kullanisli, Ba]</td>\n",
       "    </tr>\n",
       "  </tbody>\n",
       "</table>\n",
       "</div>"
      ],
      "text/plain": [
       "                                               Görüş    Durum  \\\n",
       "0  ses kalitesi ve ergonomisi rezalet, sony olduğ...  Olumsuz   \n",
       "2  ses olayı süper....gece çalıştır sıkıntı yok.....   Olumlu   \n",
       "3  geldi bigün kullandık hemen bozoldu hiçtavsiye...  Olumsuz   \n",
       "4  Kulaklığın sesi kaliteli falan değil. Aleti öv...  Olumsuz   \n",
       "6                                    kullanisli baya   Olumlu   \n",
       "\n",
       "                                               clean  \n",
       "0  [ses, kalite, ergonomi, rezalet, Sony, olmak, ...  \n",
       "2  [ses, olay, süper, ge, çalışmak, sıkıntı, yok,...  \n",
       "3  [gelmek, bigün, kul, hemen, bozoldu, hiçtavsiy...  \n",
       "4  [kulak, ses, kalite, fa, değil, alet, övmek, ö...  \n",
       "6                                   [kullanisli, Ba]  "
      ]
     },
     "execution_count": 113,
     "metadata": {},
     "output_type": "execute_result"
    }
   ],
   "source": [
    "df.head()"
   ]
  },
  {
   "cell_type": "code",
   "execution_count": 115,
   "metadata": {},
   "outputs": [],
   "source": [
    "df[\"label\"] = df[\"Durum\"].apply(lambda d: 1 if d == \"Olumlu\" else 0)"
   ]
  },
  {
   "cell_type": "code",
   "execution_count": 116,
   "metadata": {},
   "outputs": [
    {
     "data": {
      "text/html": [
       "<div>\n",
       "<style scoped>\n",
       "    .dataframe tbody tr th:only-of-type {\n",
       "        vertical-align: middle;\n",
       "    }\n",
       "\n",
       "    .dataframe tbody tr th {\n",
       "        vertical-align: top;\n",
       "    }\n",
       "\n",
       "    .dataframe thead th {\n",
       "        text-align: right;\n",
       "    }\n",
       "</style>\n",
       "<table border=\"1\" class=\"dataframe\">\n",
       "  <thead>\n",
       "    <tr style=\"text-align: right;\">\n",
       "      <th></th>\n",
       "      <th>Görüş</th>\n",
       "      <th>Durum</th>\n",
       "      <th>clean</th>\n",
       "      <th>label</th>\n",
       "    </tr>\n",
       "  </thead>\n",
       "  <tbody>\n",
       "    <tr>\n",
       "      <th>0</th>\n",
       "      <td>ses kalitesi ve ergonomisi rezalet, sony olduğ...</td>\n",
       "      <td>Olumsuz</td>\n",
       "      <td>[ses, kalite, ergonomi, rezalet, Sony, olmak, ...</td>\n",
       "      <td>0</td>\n",
       "    </tr>\n",
       "    <tr>\n",
       "      <th>2</th>\n",
       "      <td>ses olayı süper....gece çalıştır sıkıntı yok.....</td>\n",
       "      <td>Olumlu</td>\n",
       "      <td>[ses, olay, süper, ge, çalışmak, sıkıntı, yok,...</td>\n",
       "      <td>1</td>\n",
       "    </tr>\n",
       "    <tr>\n",
       "      <th>3</th>\n",
       "      <td>geldi bigün kullandık hemen bozoldu hiçtavsiye...</td>\n",
       "      <td>Olumsuz</td>\n",
       "      <td>[gelmek, bigün, kul, hemen, bozoldu, hiçtavsiy...</td>\n",
       "      <td>0</td>\n",
       "    </tr>\n",
       "    <tr>\n",
       "      <th>4</th>\n",
       "      <td>Kulaklığın sesi kaliteli falan değil. Aleti öv...</td>\n",
       "      <td>Olumsuz</td>\n",
       "      <td>[kulak, ses, kalite, fa, değil, alet, övmek, ö...</td>\n",
       "      <td>0</td>\n",
       "    </tr>\n",
       "    <tr>\n",
       "      <th>6</th>\n",
       "      <td>kullanisli baya</td>\n",
       "      <td>Olumlu</td>\n",
       "      <td>[kullanisli, Ba]</td>\n",
       "      <td>1</td>\n",
       "    </tr>\n",
       "  </tbody>\n",
       "</table>\n",
       "</div>"
      ],
      "text/plain": [
       "                                               Görüş    Durum  \\\n",
       "0  ses kalitesi ve ergonomisi rezalet, sony olduğ...  Olumsuz   \n",
       "2  ses olayı süper....gece çalıştır sıkıntı yok.....   Olumlu   \n",
       "3  geldi bigün kullandık hemen bozoldu hiçtavsiye...  Olumsuz   \n",
       "4  Kulaklığın sesi kaliteli falan değil. Aleti öv...  Olumsuz   \n",
       "6                                    kullanisli baya   Olumlu   \n",
       "\n",
       "                                               clean  label  \n",
       "0  [ses, kalite, ergonomi, rezalet, Sony, olmak, ...      0  \n",
       "2  [ses, olay, süper, ge, çalışmak, sıkıntı, yok,...      1  \n",
       "3  [gelmek, bigün, kul, hemen, bozoldu, hiçtavsiy...      0  \n",
       "4  [kulak, ses, kalite, fa, değil, alet, övmek, ö...      0  \n",
       "6                                   [kullanisli, Ba]      1  "
      ]
     },
     "execution_count": 116,
     "metadata": {},
     "output_type": "execute_result"
    }
   ],
   "source": [
    "df.head()"
   ]
  },
  {
   "cell_type": "code",
   "execution_count": 117,
   "metadata": {},
   "outputs": [
    {
     "name": "stdout",
     "output_type": "stream",
     "text": [
      "Orijinal - Olumsuz:\n",
      "2 aydir kullaniyorum 2 kere ampul patladi cekmiyor cok sesli servis hepsi normal diyor 5 para etmez\n",
      "\n",
      "Temizlenmiş:\n",
      "2 aydir kullaniyorum 2 ker ampul patladi cekmiyor cok ses servis normal demek 5 para etmek\n",
      "\n",
      "//////////////////////////////////////////////////\n",
      "\n",
      "Orijinal - Olumlu:\n",
      "Harika bir ürün tavsiye ederim 👌🏻\n",
      "\n",
      "Temizlenmiş:\n",
      "harika bir ürümek tavsiye eder\n",
      "\n",
      "//////////////////////////////////////////////////\n",
      "\n",
      "Orijinal - Olumlu:\n",
      "Hızlı teslimat için teşekkürler\n",
      "\n",
      "Temizlenmiş:\n",
      "hız teslimat teşekkür\n",
      "\n",
      "//////////////////////////////////////////////////\n",
      "\n",
      "Orijinal - Olumlu:\n",
      "ürünü 6 ay önce anneme aldım arada bende kullandim ve uzun süreli kullanım sonrasi kesinlikle tavsiye ederim. kaliteli malzeme, mükemmel taban ve kolay kullanimiyla çok rahat bir ütü\n",
      "\n",
      "Temizlenmiş:\n",
      "ürün 6 aymak önce anne Al ara bent kullandim uzun süre kullanım sonrasi kesinlikle tavsiye eder kalite malzeme mükemmel taba kolay kullanimiyla rahat bir ütü\n",
      "\n",
      "//////////////////////////////////////////////////\n",
      "\n"
     ]
    }
   ],
   "source": [
    "import random\n",
    "for i in range(4):\n",
    "    rand_idx = random.randrange(len(df))\n",
    "    gorus = df.iloc[rand_idx][\"Görüş\"]\n",
    "    print(f\"Orijinal - {df.iloc[rand_idx]['Durum']}:\")\n",
    "    print(gorus + \"\\n\")\n",
    "    print(\"Temizlenmiş:\")\n",
    "    print(\" \".join(df.iloc[rand_idx][\"clean\"]) + \"\\n\")  \n",
    "    print(\"/\" * 50 + \"\\n\")  "
   ]
  },
  {
   "cell_type": "code",
   "execution_count": null,
   "metadata": {},
   "outputs": [],
   "source": []
  }
 ],
 "metadata": {
  "kernelspec": {
   "display_name": "Python 3.9.13 ('tfnew')",
   "language": "python",
   "name": "python3"
  },
  "language_info": {
   "codemirror_mode": {
    "name": "ipython",
    "version": 3
   },
   "file_extension": ".py",
   "mimetype": "text/x-python",
   "name": "python",
   "nbconvert_exporter": "python",
   "pygments_lexer": "ipython3",
   "version": "3.9.13"
  },
  "orig_nbformat": 4,
  "vscode": {
   "interpreter": {
    "hash": "93a508892ad0418bbbef2f3796edd4c06527622cb95cdcc5e9525e8332085ac2"
   }
  }
 },
 "nbformat": 4,
 "nbformat_minor": 2
}
